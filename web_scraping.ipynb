{
 "cells": [
  {
   "cell_type": "code",
   "execution_count": 1,
   "metadata": {},
   "outputs": [
    {
     "name": "stderr",
     "output_type": "stream",
     "text": [
      "/Users/eharrison/Documents/Crosswordese/env/lib/python3.9/site-packages/urllib3/__init__.py:34: NotOpenSSLWarning: urllib3 v2.0 only supports OpenSSL 1.1.1+, currently the 'ssl' module is compiled with 'LibreSSL 2.8.3'. See: https://github.com/urllib3/urllib3/issues/3020\n",
      "  warnings.warn(\n"
     ]
    }
   ],
   "source": [
    "import requests\n",
    "from bs4 import BeautifulSoup\n",
    "from selenium import webdriver\n",
    "from selenium.webdriver.common.by import By\n",
    "\n",
    "from selenium.webdriver.support.ui import WebDriverWait\n",
    "from selenium.webdriver.support import expected_conditions as EC"
   ]
  },
  {
   "cell_type": "code",
   "execution_count": 2,
   "metadata": {},
   "outputs": [],
   "source": [
    "# get email and password information\n",
    "with open(\"login.txt\", \"r\") as f:\n",
    "    email, password = f.readline().split(\" \")"
   ]
  },
  {
   "cell_type": "code",
   "execution_count": 3,
   "metadata": {},
   "outputs": [],
   "source": [
    "# Run the website to get access to the game\n",
    "URL = \"https://www.nytimes.com/crosswords/game/daily\"\n",
    "service = webdriver.ChromeService()\n",
    "driver = webdriver.Chrome(service=service)\n",
    "driver.get(URL)\n",
    "\n",
    "continue_button = driver.find_element(By.CLASS_NAME, \"purr-blocker-card__button\")\n",
    "continue_button.click()\n",
    "\n",
    "login_link = driver.find_element(By.CLASS_NAME, \"pz-error__link\")\n",
    "login_link.click()\n",
    "\n",
    "email_field = driver.find_element(By.ID, \"email\")\n",
    "email_field.send_keys(email)\n",
    "\n",
    "submit_email_button = driver.find_element(By.CLASS_NAME, \"css-1i3jzoq-buttonBox-buttonBox-primaryButton-primaryButton-Button\")\n",
    "submit_email_button.click()\n",
    "\n",
    "password_field = WebDriverWait(driver,10).until(EC.element_to_be_clickable((By.NAME,\"password\")))\n",
    "# password_field = driver.find_element(By.NAME,\"password\")\n",
    "password_field.send_keys(password)\n",
    "\n",
    "login_button = driver.find_element(By.CLASS_NAME, \"css-1i3jzoq-buttonBox-buttonBox-primaryButton-primaryButton-Button\")\n",
    "login_button.click()"
   ]
  },
  {
   "cell_type": "code",
   "execution_count": 50,
   "metadata": {},
   "outputs": [
    {
     "name": "stdout",
     "output_type": "stream",
     "text": [
      "10\n",
      "Unresolved\n"
     ]
    }
   ],
   "source": [
    "soup = BeautifulSoup(driver.page_source, 'html5lib')\n",
    "\n",
    "clue = soup.find('li', class_=\"xwd__clue--selected\")\n",
    "\n",
    "for span in clue.find_all('span'):\n",
    "    print(span.text)"
   ]
  }
 ],
 "metadata": {
  "kernelspec": {
   "display_name": "env",
   "language": "python",
   "name": "python3"
  },
  "language_info": {
   "codemirror_mode": {
    "name": "ipython",
    "version": 3
   },
   "file_extension": ".py",
   "mimetype": "text/x-python",
   "name": "python",
   "nbconvert_exporter": "python",
   "pygments_lexer": "ipython3",
   "version": "3.9.6"
  },
  "orig_nbformat": 4
 },
 "nbformat": 4,
 "nbformat_minor": 2
}
