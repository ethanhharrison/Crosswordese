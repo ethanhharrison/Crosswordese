{
 "cells": [
  {
   "cell_type": "code",
   "execution_count": 3,
   "metadata": {},
   "outputs": [
    {
     "ename": "ModuleNotFoundError",
     "evalue": "No module named 'bs4'",
     "output_type": "error",
     "traceback": [
      "\u001b[0;31m---------------------------------------------------------------------------\u001b[0m",
      "\u001b[0;31mModuleNotFoundError\u001b[0m                       Traceback (most recent call last)",
      "\u001b[1;32m/Users/eharrison/Crosswordese/web_scraping.ipynb Cell 1\u001b[0m line \u001b[0;36m2\n\u001b[1;32m      <a href='vscode-notebook-cell:/Users/eharrison/Crosswordese/web_scraping.ipynb#W0sZmlsZQ%3D%3D?line=0'>1</a>\u001b[0m \u001b[39mimport\u001b[39;00m \u001b[39mrequests\u001b[39;00m\n\u001b[0;32m----> <a href='vscode-notebook-cell:/Users/eharrison/Crosswordese/web_scraping.ipynb#W0sZmlsZQ%3D%3D?line=1'>2</a>\u001b[0m \u001b[39mfrom\u001b[39;00m \u001b[39mbs4\u001b[39;00m \u001b[39mimport\u001b[39;00m BeautifulSoup\n\u001b[1;32m      <a href='vscode-notebook-cell:/Users/eharrison/Crosswordese/web_scraping.ipynb#W0sZmlsZQ%3D%3D?line=2'>3</a>\u001b[0m \u001b[39mfrom\u001b[39;00m \u001b[39mselenium\u001b[39;00m \u001b[39mimport\u001b[39;00m webdriver\n\u001b[1;32m      <a href='vscode-notebook-cell:/Users/eharrison/Crosswordese/web_scraping.ipynb#W0sZmlsZQ%3D%3D?line=3'>4</a>\u001b[0m \u001b[39mfrom\u001b[39;00m \u001b[39mselenium\u001b[39;00m\u001b[39m.\u001b[39;00m\u001b[39mwebdriver\u001b[39;00m\u001b[39m.\u001b[39;00m\u001b[39mcommon\u001b[39;00m\u001b[39m.\u001b[39;00m\u001b[39mby\u001b[39;00m \u001b[39mimport\u001b[39;00m By\n",
      "\u001b[0;31mModuleNotFoundError\u001b[0m: No module named 'bs4'"
     ]
    }
   ],
   "source": [
    "import requests\n",
    "from bs4 import BeautifulSoup\n",
    "from selenium import webdriver\n",
    "from selenium.webdriver.common.by import By\n",
    "\n",
    "from selenium.webdriver.support.ui import WebDriverWait\n",
    "from selenium.webdriver.support import expected_conditions as EC"
   ]
  },
  {
   "cell_type": "code",
   "execution_count": 2,
   "metadata": {},
   "outputs": [],
   "source": [
    "# get email and password information\n",
    "with open(\"login.txt\", \"r\") as f:\n",
    "    email, password = f.readline().split(\" \")"
   ]
  },
  {
   "cell_type": "code",
   "execution_count": 3,
   "metadata": {},
   "outputs": [],
   "source": [
    "# Run the website to get access to the game\n",
    "URL = \"https://www.nytimes.com/crosswords/game/daily\"\n",
    "service = webdriver.ChromeService()\n",
    "driver = webdriver.Chrome(service=service)\n",
    "driver.get(URL)\n",
    "\n",
    "continue_button = driver.find_element(By.CLASS_NAME, \"purr-blocker-card__button\")\n",
    "continue_button.click()\n",
    "\n",
    "login_link = driver.find_element(By.CLASS_NAME, \"pz-error__link\")\n",
    "login_link.click()\n",
    "\n",
    "email_field = driver.find_element(By.ID, \"email\")\n",
    "email_field.send_keys(email)\n",
    "\n",
    "submit_email_button = driver.find_element(By.CLASS_NAME, \"css-1i3jzoq-buttonBox-buttonBox-primaryButton-primaryButton-Button\")\n",
    "submit_email_button.click()\n",
    "\n",
    "password_field = WebDriverWait(driver,10).until(EC.element_to_be_clickable((By.NAME,\"password\")))\n",
    "# password_field = driver.find_element(By.NAME,\"password\")\n",
    "password_field.send_keys(password)\n",
    "\n",
    "login_button = driver.find_element(By.CLASS_NAME, \"css-1i3jzoq-buttonBox-buttonBox-primaryButton-primaryButton-Button\")\n",
    "login_button.click()"
   ]
  },
  {
   "cell_type": "code",
   "execution_count": 50,
   "metadata": {},
   "outputs": [
    {
     "name": "stdout",
     "output_type": "stream",
     "text": [
      "10\n",
      "Unresolved\n"
     ]
    }
   ],
   "source": [
    "soup = BeautifulSoup(driver.page_source, 'html5lib')\n",
    "\n",
    "clue = soup.find('li', class_=\"xwd__clue--selected\")\n",
    "\n",
    "for span in clue.find_all('span'):\n",
    "    print(span.text)"
   ]
  }
 ],
 "metadata": {
  "kernelspec": {
   "display_name": "env",
   "language": "python",
   "name": "python3"
  },
  "language_info": {
   "codemirror_mode": {
    "name": "ipython",
    "version": 3
   },
   "file_extension": ".py",
   "mimetype": "text/x-python",
   "name": "python",
   "nbconvert_exporter": "python",
   "pygments_lexer": "ipython3",
   "version": "3.9.6"
  },
  "orig_nbformat": 4
 },
 "nbformat": 4,
 "nbformat_minor": 2
}
